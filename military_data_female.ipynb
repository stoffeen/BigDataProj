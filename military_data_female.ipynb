{
 "cells": [
  {
   "cell_type": "code",
   "execution_count": 11,
   "metadata": {
    "collapsed": true,
    "pycharm": {
     "name": "#%%\n"
    }
   },
   "outputs": [
    {
     "data": {
      "text/plain": "   SubjectId  abdominalextensiondepthsitting  acromialheight  \\\n0      10037                             231            1282   \n1      10038                             194            1379   \n2      10042                             183            1369   \n3      10043                             261            1356   \n4      10051                             309            1303   \n\n   acromionradialelength  anklecircumference  axillaheight  \\\n0                    301                 204          1180   \n1                    320                 207          1292   \n2                    329                 233          1271   \n3                    306                 214          1250   \n4                    308                 214          1210   \n\n   balloffootcircumference  balloffootlength  biacromialbreadth  \\\n0                      222               177                373   \n1                      225               178                372   \n2                      237               196                397   \n3                      240               188                384   \n4                      217               182                378   \n\n   bicepscircumferenceflexed  ...                  Branch  PrimaryMOS  \\\n0                        315  ...          Combat Support         92Y   \n1                        272  ...  Combat Service Support         25U   \n2                        300  ...  Combat Service Support         35D   \n3                        364  ...  Combat Service Support         25U   \n4                        320  ...             Combat Arms         42A   \n\n   SubjectsBirthLocation  SubjectNumericRace           Ethnicity  DODRace  \\\n0                Germany                   2                 NaN        2   \n1             California                   3             Mexican        3   \n2                  Texas                   1                 NaN        1   \n3   District of Columbia                   8  Caribbean Islander        2   \n4                  Texas                   1                 NaN        1   \n\n   Age  Heightin  Weightlbs  WritingPreference  \n0   26        61        142         Right hand  \n1   21        64        120         Right hand  \n2   23        68        147         Right hand  \n3   22        66        175         Right hand  \n4   45        63        195         Right hand  \n\n[5 rows x 108 columns]",
      "text/html": "<div>\n<style scoped>\n    .dataframe tbody tr th:only-of-type {\n        vertical-align: middle;\n    }\n\n    .dataframe tbody tr th {\n        vertical-align: top;\n    }\n\n    .dataframe thead th {\n        text-align: right;\n    }\n</style>\n<table border=\"1\" class=\"dataframe\">\n  <thead>\n    <tr style=\"text-align: right;\">\n      <th></th>\n      <th>SubjectId</th>\n      <th>abdominalextensiondepthsitting</th>\n      <th>acromialheight</th>\n      <th>acromionradialelength</th>\n      <th>anklecircumference</th>\n      <th>axillaheight</th>\n      <th>balloffootcircumference</th>\n      <th>balloffootlength</th>\n      <th>biacromialbreadth</th>\n      <th>bicepscircumferenceflexed</th>\n      <th>...</th>\n      <th>Branch</th>\n      <th>PrimaryMOS</th>\n      <th>SubjectsBirthLocation</th>\n      <th>SubjectNumericRace</th>\n      <th>Ethnicity</th>\n      <th>DODRace</th>\n      <th>Age</th>\n      <th>Heightin</th>\n      <th>Weightlbs</th>\n      <th>WritingPreference</th>\n    </tr>\n  </thead>\n  <tbody>\n    <tr>\n      <th>0</th>\n      <td>10037</td>\n      <td>231</td>\n      <td>1282</td>\n      <td>301</td>\n      <td>204</td>\n      <td>1180</td>\n      <td>222</td>\n      <td>177</td>\n      <td>373</td>\n      <td>315</td>\n      <td>...</td>\n      <td>Combat Support</td>\n      <td>92Y</td>\n      <td>Germany</td>\n      <td>2</td>\n      <td>NaN</td>\n      <td>2</td>\n      <td>26</td>\n      <td>61</td>\n      <td>142</td>\n      <td>Right hand</td>\n    </tr>\n    <tr>\n      <th>1</th>\n      <td>10038</td>\n      <td>194</td>\n      <td>1379</td>\n      <td>320</td>\n      <td>207</td>\n      <td>1292</td>\n      <td>225</td>\n      <td>178</td>\n      <td>372</td>\n      <td>272</td>\n      <td>...</td>\n      <td>Combat Service Support</td>\n      <td>25U</td>\n      <td>California</td>\n      <td>3</td>\n      <td>Mexican</td>\n      <td>3</td>\n      <td>21</td>\n      <td>64</td>\n      <td>120</td>\n      <td>Right hand</td>\n    </tr>\n    <tr>\n      <th>2</th>\n      <td>10042</td>\n      <td>183</td>\n      <td>1369</td>\n      <td>329</td>\n      <td>233</td>\n      <td>1271</td>\n      <td>237</td>\n      <td>196</td>\n      <td>397</td>\n      <td>300</td>\n      <td>...</td>\n      <td>Combat Service Support</td>\n      <td>35D</td>\n      <td>Texas</td>\n      <td>1</td>\n      <td>NaN</td>\n      <td>1</td>\n      <td>23</td>\n      <td>68</td>\n      <td>147</td>\n      <td>Right hand</td>\n    </tr>\n    <tr>\n      <th>3</th>\n      <td>10043</td>\n      <td>261</td>\n      <td>1356</td>\n      <td>306</td>\n      <td>214</td>\n      <td>1250</td>\n      <td>240</td>\n      <td>188</td>\n      <td>384</td>\n      <td>364</td>\n      <td>...</td>\n      <td>Combat Service Support</td>\n      <td>25U</td>\n      <td>District of Columbia</td>\n      <td>8</td>\n      <td>Caribbean Islander</td>\n      <td>2</td>\n      <td>22</td>\n      <td>66</td>\n      <td>175</td>\n      <td>Right hand</td>\n    </tr>\n    <tr>\n      <th>4</th>\n      <td>10051</td>\n      <td>309</td>\n      <td>1303</td>\n      <td>308</td>\n      <td>214</td>\n      <td>1210</td>\n      <td>217</td>\n      <td>182</td>\n      <td>378</td>\n      <td>320</td>\n      <td>...</td>\n      <td>Combat Arms</td>\n      <td>42A</td>\n      <td>Texas</td>\n      <td>1</td>\n      <td>NaN</td>\n      <td>1</td>\n      <td>45</td>\n      <td>63</td>\n      <td>195</td>\n      <td>Right hand</td>\n    </tr>\n  </tbody>\n</table>\n<p>5 rows × 108 columns</p>\n</div>"
     },
     "execution_count": 11,
     "metadata": {},
     "output_type": "execute_result"
    }
   ],
   "source": [
    "import pandas as pd\n",
    "\n",
    "female_df = pd.read_csv('female.csv')\n",
    "female_df.head()"
   ]
  },
  {
   "cell_type": "code",
   "execution_count": 12,
   "outputs": [],
   "source": [
    "female_data = female_df[['stature', 'weightkg', 'chestcircumference', 'waistcircumference', 'buttockcircumference']]\n",
    "female_data.insert(5, column =\"tshirt_size\", value=\"-\")\n",
    "female_data.insert(5, column =\"pants_size\", value=\"-\")\n",
    "female_data.insert(6, column =\"tshirt_colour\", value=\"-\")\n",
    "female_data.insert(6, column =\"pants_colour\", value=\"-\")\n",
    "\n",
    "female_df['weightkg'] = female_df['weightkg'].multiply(0.1)\n",
    "female_df['stature'] = female_df['stature'].multiply(0.1)"
   ],
   "metadata": {
    "collapsed": false,
    "pycharm": {
     "name": "#%%\n"
    }
   }
  },
  {
   "cell_type": "code",
   "execution_count": 13,
   "outputs": [
    {
     "name": "stderr",
     "output_type": "stream",
     "text": [
      "C:\\Users\\stoff\\AppData\\Local\\Temp\\ipykernel_20064\\861314041.py:50: SettingWithCopyWarning: \n",
      "A value is trying to be set on a copy of a slice from a DataFrame.\n",
      "Try using .loc[row_indexer,col_indexer] = value instead\n",
      "\n",
      "See the caveats in the documentation: https://pandas.pydata.org/pandas-docs/stable/user_guide/indexing.html#returning-a-view-versus-a-copy\n",
      "  new_female['tshirt_size'] = tshirt_size\n",
      "C:\\Users\\stoff\\AppData\\Local\\Temp\\ipykernel_20064\\861314041.py:51: SettingWithCopyWarning: \n",
      "A value is trying to be set on a copy of a slice from a DataFrame.\n",
      "Try using .loc[row_indexer,col_indexer] = value instead\n",
      "\n",
      "See the caveats in the documentation: https://pandas.pydata.org/pandas-docs/stable/user_guide/indexing.html#returning-a-view-versus-a-copy\n",
      "  new_female['tshirt_colour'] = tshirt_colour\n"
     ]
    },
    {
     "data": {
      "text/plain": "   stature  weightkg  chestcircumference  waistcircumference  \\\n0     1560       657                 922                 850   \n1     1665       534                 839                 708   \n2     1711       663                 874                 727   \n3     1660       782                1008                 923   \n4     1572       886                1089                1163   \n\n   buttockcircumference pants_size pants_colour tshirt_colour tshirt_size  \n0                  1011          -            -        Orange       Large  \n1                   893          -            -          Blue       Small  \n2                   987          -            -           Red      Medium  \n3                  1012          -            -         Black     X-Large  \n4                  1281          -            -          Pink    XX-Large  ",
      "text/html": "<div>\n<style scoped>\n    .dataframe tbody tr th:only-of-type {\n        vertical-align: middle;\n    }\n\n    .dataframe tbody tr th {\n        vertical-align: top;\n    }\n\n    .dataframe thead th {\n        text-align: right;\n    }\n</style>\n<table border=\"1\" class=\"dataframe\">\n  <thead>\n    <tr style=\"text-align: right;\">\n      <th></th>\n      <th>stature</th>\n      <th>weightkg</th>\n      <th>chestcircumference</th>\n      <th>waistcircumference</th>\n      <th>buttockcircumference</th>\n      <th>pants_size</th>\n      <th>pants_colour</th>\n      <th>tshirt_colour</th>\n      <th>tshirt_size</th>\n    </tr>\n  </thead>\n  <tbody>\n    <tr>\n      <th>0</th>\n      <td>1560</td>\n      <td>657</td>\n      <td>922</td>\n      <td>850</td>\n      <td>1011</td>\n      <td>-</td>\n      <td>-</td>\n      <td>Orange</td>\n      <td>Large</td>\n    </tr>\n    <tr>\n      <th>1</th>\n      <td>1665</td>\n      <td>534</td>\n      <td>839</td>\n      <td>708</td>\n      <td>893</td>\n      <td>-</td>\n      <td>-</td>\n      <td>Blue</td>\n      <td>Small</td>\n    </tr>\n    <tr>\n      <th>2</th>\n      <td>1711</td>\n      <td>663</td>\n      <td>874</td>\n      <td>727</td>\n      <td>987</td>\n      <td>-</td>\n      <td>-</td>\n      <td>Red</td>\n      <td>Medium</td>\n    </tr>\n    <tr>\n      <th>3</th>\n      <td>1660</td>\n      <td>782</td>\n      <td>1008</td>\n      <td>923</td>\n      <td>1012</td>\n      <td>-</td>\n      <td>-</td>\n      <td>Black</td>\n      <td>X-Large</td>\n    </tr>\n    <tr>\n      <th>4</th>\n      <td>1572</td>\n      <td>886</td>\n      <td>1089</td>\n      <td>1163</td>\n      <td>1281</td>\n      <td>-</td>\n      <td>-</td>\n      <td>Pink</td>\n      <td>XX-Large</td>\n    </tr>\n  </tbody>\n</table>\n</div>"
     },
     "execution_count": 13,
     "metadata": {},
     "output_type": "execute_result"
    }
   ],
   "source": [
    "tshirt_size = []\n",
    "tshirt_colour = []\n",
    "for chest, waist in zip(female_data['chestcircumference'], female_data['waistcircumference']):\n",
    "    if chest < 800:\n",
    "        if waist >= 660:\n",
    "            tshirt_size.append('Small')\n",
    "            tshirt_colour.append('Blue')\n",
    "        else:\n",
    "            tshirt_size.append('X-Small')\n",
    "            tshirt_colour.append('Yellow')\n",
    "    elif chest < 880:\n",
    "        if waist >= 720:\n",
    "            tshirt_size.append('Medium')\n",
    "            tshirt_colour.append('Red')\n",
    "        else:\n",
    "            tshirt_size.append('Small')\n",
    "            tshirt_colour.append('Blue')\n",
    "    elif chest < 960:\n",
    "        if waist >= 800:\n",
    "            tshirt_size.append('Large')\n",
    "            tshirt_colour.append('Orange')\n",
    "        else:\n",
    "            tshirt_size.append('Medium')\n",
    "            tshirt_colour.append('Red')\n",
    "    elif chest < 1040:\n",
    "        if waist >= 880:\n",
    "            tshirt_size.append('X-Large')\n",
    "            tshirt_colour.append('Black')\n",
    "        else:\n",
    "            tshirt_size.append('Large')\n",
    "            tshirt_colour.append('Orange')\n",
    "    elif chest < 1160:\n",
    "        if waist >=990:\n",
    "            tshirt_size.append('XX-Large')\n",
    "            tshirt_colour.append('Pink')\n",
    "        else:\n",
    "            tshirt_size.append('X-Large')\n",
    "            tshirt_colour.append('Black')\n",
    "    elif chest < 1280:\n",
    "        if waist >= 1110:\n",
    "            tshirt_size.append('XXX-Large')\n",
    "            tshirt_colour.append('Brown')\n",
    "        else:\n",
    "            tshirt_size.append('XX-Large')\n",
    "            tshirt_colour.append('Pink')\n",
    "    elif chest < 1280:\n",
    "        tshirt_size.append('XXX-Large')\n",
    "        tshirt_colour.append('Brown')\n",
    "\n",
    "female_data['tshirt_size'] = tshirt_size\n",
    "female_data['tshirt_colour'] = tshirt_colour\n",
    "female_data.head()"
   ],
   "metadata": {
    "collapsed": false,
    "pycharm": {
     "name": "#%%\n"
    }
   }
  },
  {
   "cell_type": "code",
   "execution_count": 14,
   "outputs": [],
   "source": [
    "female_tshirt_cleaned = female_df[['stature', 'weightkg', 'chestcircumference', 'waistcircumference']]"
   ],
   "metadata": {
    "collapsed": false,
    "pycharm": {
     "name": "#%%\n"
    }
   }
  },
  {
   "cell_type": "code",
   "execution_count": 15,
   "outputs": [
    {
     "data": {
      "text/plain": "   stature  weightkg  chestcircumference  waistcircumference\n0    156.0      65.7                 922                 850\n1    166.5      53.4                 839                 708\n2    171.1      66.3                 874                 727\n3    166.0      78.2                1008                 923\n4    157.2      88.6                1089                1163",
      "text/html": "<div>\n<style scoped>\n    .dataframe tbody tr th:only-of-type {\n        vertical-align: middle;\n    }\n\n    .dataframe tbody tr th {\n        vertical-align: top;\n    }\n\n    .dataframe thead th {\n        text-align: right;\n    }\n</style>\n<table border=\"1\" class=\"dataframe\">\n  <thead>\n    <tr style=\"text-align: right;\">\n      <th></th>\n      <th>stature</th>\n      <th>weightkg</th>\n      <th>chestcircumference</th>\n      <th>waistcircumference</th>\n    </tr>\n  </thead>\n  <tbody>\n    <tr>\n      <th>0</th>\n      <td>156.0</td>\n      <td>65.7</td>\n      <td>922</td>\n      <td>850</td>\n    </tr>\n    <tr>\n      <th>1</th>\n      <td>166.5</td>\n      <td>53.4</td>\n      <td>839</td>\n      <td>708</td>\n    </tr>\n    <tr>\n      <th>2</th>\n      <td>171.1</td>\n      <td>66.3</td>\n      <td>874</td>\n      <td>727</td>\n    </tr>\n    <tr>\n      <th>3</th>\n      <td>166.0</td>\n      <td>78.2</td>\n      <td>1008</td>\n      <td>923</td>\n    </tr>\n    <tr>\n      <th>4</th>\n      <td>157.2</td>\n      <td>88.6</td>\n      <td>1089</td>\n      <td>1163</td>\n    </tr>\n  </tbody>\n</table>\n</div>"
     },
     "execution_count": 15,
     "metadata": {},
     "output_type": "execute_result"
    }
   ],
   "source": [
    "female_tshirt_cleaned.head()"
   ],
   "metadata": {
    "collapsed": false,
    "pycharm": {
     "name": "#%%\n"
    }
   }
  },
  {
   "cell_type": "code",
   "execution_count": 16,
   "outputs": [],
   "source": [
    "female_tshirt_cleaned.to_csv('female_tshirt_cleaned.csv')"
   ],
   "metadata": {
    "collapsed": false,
    "pycharm": {
     "name": "#%%\n"
    }
   }
  },
  {
   "cell_type": "code",
   "execution_count": 17,
   "outputs": [
    {
     "name": "stderr",
     "output_type": "stream",
     "text": [
      "C:\\Users\\stoff\\AppData\\Local\\Temp\\ipykernel_20064\\2200780174.py:51: SettingWithCopyWarning: \n",
      "A value is trying to be set on a copy of a slice from a DataFrame.\n",
      "Try using .loc[row_indexer,col_indexer] = value instead\n",
      "\n",
      "See the caveats in the documentation: https://pandas.pydata.org/pandas-docs/stable/user_guide/indexing.html#returning-a-view-versus-a-copy\n",
      "  new_female['pants_size'] = pants_size\n",
      "C:\\Users\\stoff\\AppData\\Local\\Temp\\ipykernel_20064\\2200780174.py:52: SettingWithCopyWarning: \n",
      "A value is trying to be set on a copy of a slice from a DataFrame.\n",
      "Try using .loc[row_indexer,col_indexer] = value instead\n",
      "\n",
      "See the caveats in the documentation: https://pandas.pydata.org/pandas-docs/stable/user_guide/indexing.html#returning-a-view-versus-a-copy\n",
      "  new_female['pants_colour'] = pants_colour\n"
     ]
    },
    {
     "data": {
      "text/plain": "   stature  weightkg  chestcircumference  waistcircumference  \\\n0     1560       657                 922                 850   \n1     1665       534                 839                 708   \n2     1711       663                 874                 727   \n3     1660       782                1008                 923   \n4     1572       886                1089                1163   \n\n   buttockcircumference pants_size pants_colour tshirt_colour tshirt_size  \n0                  1011      Large       Orange        Orange       Large  \n1                   893      Small         Blue          Blue       Small  \n2                   987     Medium          Red           Red      Medium  \n3                  1012      Large       Orange         Black     X-Large  \n4                  1281  XXX-Large        Brown          Pink    XX-Large  ",
      "text/html": "<div>\n<style scoped>\n    .dataframe tbody tr th:only-of-type {\n        vertical-align: middle;\n    }\n\n    .dataframe tbody tr th {\n        vertical-align: top;\n    }\n\n    .dataframe thead th {\n        text-align: right;\n    }\n</style>\n<table border=\"1\" class=\"dataframe\">\n  <thead>\n    <tr style=\"text-align: right;\">\n      <th></th>\n      <th>stature</th>\n      <th>weightkg</th>\n      <th>chestcircumference</th>\n      <th>waistcircumference</th>\n      <th>buttockcircumference</th>\n      <th>pants_size</th>\n      <th>pants_colour</th>\n      <th>tshirt_colour</th>\n      <th>tshirt_size</th>\n    </tr>\n  </thead>\n  <tbody>\n    <tr>\n      <th>0</th>\n      <td>1560</td>\n      <td>657</td>\n      <td>922</td>\n      <td>850</td>\n      <td>1011</td>\n      <td>Large</td>\n      <td>Orange</td>\n      <td>Orange</td>\n      <td>Large</td>\n    </tr>\n    <tr>\n      <th>1</th>\n      <td>1665</td>\n      <td>534</td>\n      <td>839</td>\n      <td>708</td>\n      <td>893</td>\n      <td>Small</td>\n      <td>Blue</td>\n      <td>Blue</td>\n      <td>Small</td>\n    </tr>\n    <tr>\n      <th>2</th>\n      <td>1711</td>\n      <td>663</td>\n      <td>874</td>\n      <td>727</td>\n      <td>987</td>\n      <td>Medium</td>\n      <td>Red</td>\n      <td>Red</td>\n      <td>Medium</td>\n    </tr>\n    <tr>\n      <th>3</th>\n      <td>1660</td>\n      <td>782</td>\n      <td>1008</td>\n      <td>923</td>\n      <td>1012</td>\n      <td>Large</td>\n      <td>Orange</td>\n      <td>Black</td>\n      <td>X-Large</td>\n    </tr>\n    <tr>\n      <th>4</th>\n      <td>1572</td>\n      <td>886</td>\n      <td>1089</td>\n      <td>1163</td>\n      <td>1281</td>\n      <td>XXX-Large</td>\n      <td>Brown</td>\n      <td>Pink</td>\n      <td>XX-Large</td>\n    </tr>\n  </tbody>\n</table>\n</div>"
     },
     "execution_count": 17,
     "metadata": {},
     "output_type": "execute_result"
    }
   ],
   "source": [
    "pants_size = []\n",
    "pants_colour = []\n",
    "for butt, waist in zip(female_data['buttockcircumference'], female_data['waistcircumference']):\n",
    "    if butt < 900:\n",
    "        if waist >= 660:\n",
    "            pants_size.append('Small')\n",
    "            pants_colour.append('Blue')\n",
    "        else:\n",
    "            pants_size.append('X-Small')\n",
    "            pants_colour.append('Yellow')\n",
    "    elif butt < 960:\n",
    "        if waist >= 720:\n",
    "            pants_size.append('Medium')\n",
    "            pants_colour.append('Red')\n",
    "        else:\n",
    "            pants_size.append('Small')\n",
    "            pants_colour.append('Blue')\n",
    "    elif butt < 1020:\n",
    "        if waist >= 800:\n",
    "            pants_size.append('Large')\n",
    "            pants_colour.append('Orange')\n",
    "        else:\n",
    "            pants_size.append('Medium')\n",
    "            pants_colour.append('Red')\n",
    "    elif butt < 1100:\n",
    "        if waist >= 880:\n",
    "            pants_size.append('X-Large')\n",
    "            pants_colour.append('Black')\n",
    "        else:\n",
    "            pants_size.append('Large')\n",
    "            pants_colour.append('Orange')\n",
    "    elif butt < 1200:\n",
    "        if waist >=990:\n",
    "            pants_size.append('XX-Large')\n",
    "            pants_colour.append('Pink')\n",
    "        else:\n",
    "            pants_size.append('X-Large')\n",
    "            pants_colour.append('Black')\n",
    "    elif butt < 1300:\n",
    "        if waist >= 1110:\n",
    "            pants_size.append('XXX-Large')\n",
    "            pants_colour.append('Brown')\n",
    "        else:\n",
    "            pants_size.append('XX-Large')\n",
    "            pants_colour.append('Pink')\n",
    "    elif butt >= 1300:\n",
    "            pants_size.append('XXX-Large')\n",
    "            pants_colour.append('Brown')\n",
    "\n",
    "\n",
    "female_data['pants_size'] = pants_size\n",
    "female_data['pants_colour'] = pants_colour\n",
    "female_data.head()"
   ],
   "metadata": {
    "collapsed": false,
    "pycharm": {
     "name": "#%%\n"
    }
   }
  },
  {
   "cell_type": "code",
   "execution_count": 18,
   "outputs": [],
   "source": [
    "female_pants_cleaned = female_df[['stature', 'weightkg', 'waistcircumference', 'buttockcircumference']]"
   ],
   "metadata": {
    "collapsed": false,
    "pycharm": {
     "name": "#%%\n"
    }
   }
  },
  {
   "cell_type": "code",
   "execution_count": 19,
   "outputs": [
    {
     "data": {
      "text/plain": "   stature  weightkg  waistcircumference  buttockcircumference\n0    156.0      65.7                 850                  1011\n1    166.5      53.4                 708                   893\n2    171.1      66.3                 727                   987\n3    166.0      78.2                 923                  1012\n4    157.2      88.6                1163                  1281",
      "text/html": "<div>\n<style scoped>\n    .dataframe tbody tr th:only-of-type {\n        vertical-align: middle;\n    }\n\n    .dataframe tbody tr th {\n        vertical-align: top;\n    }\n\n    .dataframe thead th {\n        text-align: right;\n    }\n</style>\n<table border=\"1\" class=\"dataframe\">\n  <thead>\n    <tr style=\"text-align: right;\">\n      <th></th>\n      <th>stature</th>\n      <th>weightkg</th>\n      <th>waistcircumference</th>\n      <th>buttockcircumference</th>\n    </tr>\n  </thead>\n  <tbody>\n    <tr>\n      <th>0</th>\n      <td>156.0</td>\n      <td>65.7</td>\n      <td>850</td>\n      <td>1011</td>\n    </tr>\n    <tr>\n      <th>1</th>\n      <td>166.5</td>\n      <td>53.4</td>\n      <td>708</td>\n      <td>893</td>\n    </tr>\n    <tr>\n      <th>2</th>\n      <td>171.1</td>\n      <td>66.3</td>\n      <td>727</td>\n      <td>987</td>\n    </tr>\n    <tr>\n      <th>3</th>\n      <td>166.0</td>\n      <td>78.2</td>\n      <td>923</td>\n      <td>1012</td>\n    </tr>\n    <tr>\n      <th>4</th>\n      <td>157.2</td>\n      <td>88.6</td>\n      <td>1163</td>\n      <td>1281</td>\n    </tr>\n  </tbody>\n</table>\n</div>"
     },
     "execution_count": 19,
     "metadata": {},
     "output_type": "execute_result"
    }
   ],
   "source": [
    "female_pants_cleaned.head()"
   ],
   "metadata": {
    "collapsed": false,
    "pycharm": {
     "name": "#%%\n"
    }
   }
  },
  {
   "cell_type": "code",
   "execution_count": 20,
   "outputs": [],
   "source": [
    "female_pants_cleaned.to_csv('female_pants_cleaned.csv')"
   ],
   "metadata": {
    "collapsed": false,
    "pycharm": {
     "name": "#%%\n"
    }
   }
  },
  {
   "cell_type": "code",
   "execution_count": 20,
   "outputs": [],
   "source": [],
   "metadata": {
    "collapsed": false,
    "pycharm": {
     "name": "#%%\n"
    }
   }
  }
 ],
 "metadata": {
  "kernelspec": {
   "display_name": "Python 3",
   "language": "python",
   "name": "python3"
  },
  "language_info": {
   "codemirror_mode": {
    "name": "ipython",
    "version": 2
   },
   "file_extension": ".py",
   "mimetype": "text/x-python",
   "name": "python",
   "nbconvert_exporter": "python",
   "pygments_lexer": "ipython2",
   "version": "2.7.6"
  }
 },
 "nbformat": 4,
 "nbformat_minor": 0
}