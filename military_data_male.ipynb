{
 "cells": [
  {
   "cell_type": "code",
   "execution_count": 2,
   "metadata": {
    "collapsed": true,
    "pycharm": {
     "name": "#%%\n"
    }
   },
   "outputs": [
    {
     "data": {
      "text/plain": "   subjectid  abdominalextensiondepthsitting  acromialheight  \\\n0      10027                             266            1467   \n1      10032                             233            1395   \n2      10033                             287            1430   \n3      10092                             234            1347   \n4      10093                             250            1585   \n\n   acromionradialelength  anklecircumference  axillaheight  \\\n0                    337                 222          1347   \n1                    326                 220          1293   \n2                    341                 230          1327   \n3                    310                 230          1239   \n4                    372                 247          1478   \n\n   balloffootcircumference  balloffootlength  biacromialbreadth  \\\n0                      253               202                401   \n1                      245               193                394   \n2                      256               196                427   \n3                      262               199                401   \n4                      267               224                435   \n\n   bicepscircumferenceflexed  ...                  Branch  PrimaryMOS  \\\n0                        369  ...             Combat Arms         19D   \n1                        338  ...          Combat Support         68W   \n2                        408  ...          Combat Support         68W   \n3                        359  ...  Combat Service Support         88M   \n4                        356  ...  Combat Service Support         92G   \n\n   SubjectsBirthLocation  SubjectNumericRace  Ethnicity  DODRace  Age  \\\n0           North Dakota                   1        NaN        1   41   \n1               New York                   1        NaN        1   35   \n2               New York                   2        NaN        2   42   \n3              Wisconsin                   1        NaN        1   31   \n4         North Carolina                   2        NaN        2   21   \n\n   Heightin  Weightlbs  WritingPreference  \n0        71        180         Right hand  \n1        68        160          Left hand  \n2        68        205          Left hand  \n3        66        175         Right hand  \n4        77        213         Right hand  \n\n[5 rows x 108 columns]",
      "text/html": "<div>\n<style scoped>\n    .dataframe tbody tr th:only-of-type {\n        vertical-align: middle;\n    }\n\n    .dataframe tbody tr th {\n        vertical-align: top;\n    }\n\n    .dataframe thead th {\n        text-align: right;\n    }\n</style>\n<table border=\"1\" class=\"dataframe\">\n  <thead>\n    <tr style=\"text-align: right;\">\n      <th></th>\n      <th>subjectid</th>\n      <th>abdominalextensiondepthsitting</th>\n      <th>acromialheight</th>\n      <th>acromionradialelength</th>\n      <th>anklecircumference</th>\n      <th>axillaheight</th>\n      <th>balloffootcircumference</th>\n      <th>balloffootlength</th>\n      <th>biacromialbreadth</th>\n      <th>bicepscircumferenceflexed</th>\n      <th>...</th>\n      <th>Branch</th>\n      <th>PrimaryMOS</th>\n      <th>SubjectsBirthLocation</th>\n      <th>SubjectNumericRace</th>\n      <th>Ethnicity</th>\n      <th>DODRace</th>\n      <th>Age</th>\n      <th>Heightin</th>\n      <th>Weightlbs</th>\n      <th>WritingPreference</th>\n    </tr>\n  </thead>\n  <tbody>\n    <tr>\n      <th>0</th>\n      <td>10027</td>\n      <td>266</td>\n      <td>1467</td>\n      <td>337</td>\n      <td>222</td>\n      <td>1347</td>\n      <td>253</td>\n      <td>202</td>\n      <td>401</td>\n      <td>369</td>\n      <td>...</td>\n      <td>Combat Arms</td>\n      <td>19D</td>\n      <td>North Dakota</td>\n      <td>1</td>\n      <td>NaN</td>\n      <td>1</td>\n      <td>41</td>\n      <td>71</td>\n      <td>180</td>\n      <td>Right hand</td>\n    </tr>\n    <tr>\n      <th>1</th>\n      <td>10032</td>\n      <td>233</td>\n      <td>1395</td>\n      <td>326</td>\n      <td>220</td>\n      <td>1293</td>\n      <td>245</td>\n      <td>193</td>\n      <td>394</td>\n      <td>338</td>\n      <td>...</td>\n      <td>Combat Support</td>\n      <td>68W</td>\n      <td>New York</td>\n      <td>1</td>\n      <td>NaN</td>\n      <td>1</td>\n      <td>35</td>\n      <td>68</td>\n      <td>160</td>\n      <td>Left hand</td>\n    </tr>\n    <tr>\n      <th>2</th>\n      <td>10033</td>\n      <td>287</td>\n      <td>1430</td>\n      <td>341</td>\n      <td>230</td>\n      <td>1327</td>\n      <td>256</td>\n      <td>196</td>\n      <td>427</td>\n      <td>408</td>\n      <td>...</td>\n      <td>Combat Support</td>\n      <td>68W</td>\n      <td>New York</td>\n      <td>2</td>\n      <td>NaN</td>\n      <td>2</td>\n      <td>42</td>\n      <td>68</td>\n      <td>205</td>\n      <td>Left hand</td>\n    </tr>\n    <tr>\n      <th>3</th>\n      <td>10092</td>\n      <td>234</td>\n      <td>1347</td>\n      <td>310</td>\n      <td>230</td>\n      <td>1239</td>\n      <td>262</td>\n      <td>199</td>\n      <td>401</td>\n      <td>359</td>\n      <td>...</td>\n      <td>Combat Service Support</td>\n      <td>88M</td>\n      <td>Wisconsin</td>\n      <td>1</td>\n      <td>NaN</td>\n      <td>1</td>\n      <td>31</td>\n      <td>66</td>\n      <td>175</td>\n      <td>Right hand</td>\n    </tr>\n    <tr>\n      <th>4</th>\n      <td>10093</td>\n      <td>250</td>\n      <td>1585</td>\n      <td>372</td>\n      <td>247</td>\n      <td>1478</td>\n      <td>267</td>\n      <td>224</td>\n      <td>435</td>\n      <td>356</td>\n      <td>...</td>\n      <td>Combat Service Support</td>\n      <td>92G</td>\n      <td>North Carolina</td>\n      <td>2</td>\n      <td>NaN</td>\n      <td>2</td>\n      <td>21</td>\n      <td>77</td>\n      <td>213</td>\n      <td>Right hand</td>\n    </tr>\n  </tbody>\n</table>\n<p>5 rows × 108 columns</p>\n</div>"
     },
     "execution_count": 2,
     "metadata": {},
     "output_type": "execute_result"
    }
   ],
   "source": [
    "import pandas as pd\n",
    "\n",
    "male_df = pd.read_csv('male.csv')\n",
    "male_df.head()"
   ]
  },
  {
   "cell_type": "code",
   "execution_count": 3,
   "outputs": [],
   "source": [
    "male_data = male_df[['stature', 'weightkg', 'chestcircumference', 'waistcircumference', 'buttockcircumference']]\n",
    "male_data.insert(5, column =\"tshirt_size\", value=\"-\")\n",
    "male_data.insert(5, column =\"pants_size\", value=\"-\")\n",
    "male_data.insert(6, column=\"tshirt_colour\", value=\"-\")\n",
    "male_data.insert(6, column=\"pants_colour\", value=\"-\")\n",
    "\n",
    "male_df['weightkg'] = male_df['weightkg'].multiply(0.1)\n",
    "male_df['stature'] = male_df['stature'].multiply(0.1)"
   ],
   "metadata": {
    "collapsed": false,
    "pycharm": {
     "name": "#%%\n"
    }
   }
  },
  {
   "cell_type": "code",
   "execution_count": 4,
   "outputs": [
    {
     "name": "stderr",
     "output_type": "stream",
     "text": [
      "C:\\Users\\stoff\\AppData\\Local\\Temp\\ipykernel_25068\\3992551472.py:50: SettingWithCopyWarning: \n",
      "A value is trying to be set on a copy of a slice from a DataFrame.\n",
      "Try using .loc[row_indexer,col_indexer] = value instead\n",
      "\n",
      "See the caveats in the documentation: https://pandas.pydata.org/pandas-docs/stable/user_guide/indexing.html#returning-a-view-versus-a-copy\n",
      "  male_data['tshirt_size'] = tshirt_size\n",
      "C:\\Users\\stoff\\AppData\\Local\\Temp\\ipykernel_25068\\3992551472.py:51: SettingWithCopyWarning: \n",
      "A value is trying to be set on a copy of a slice from a DataFrame.\n",
      "Try using .loc[row_indexer,col_indexer] = value instead\n",
      "\n",
      "See the caveats in the documentation: https://pandas.pydata.org/pandas-docs/stable/user_guide/indexing.html#returning-a-view-versus-a-copy\n",
      "  male_data['tshirt_colour'] = tshirt_colour\n"
     ]
    },
    {
     "data": {
      "text/plain": "   stature  weightkg  chestcircumference  waistcircumference  \\\n0     1776       815                1074                 933   \n1     1702       726                1021                 870   \n2     1735       929                1120                 964   \n3     1655       794                1114                 857   \n4     1914       946                1048                 868   \n\n   buttockcircumference pants_size pants_colour tshirt_colour tshirt_size  \n0                   979          -            -        Orange       Large  \n1                   944          -            -           Red      Medium  \n2                  1054          -            -         Black     X-Large  \n3                   991          -            -        Orange       Large  \n4                  1029          -            -        Orange       Large  ",
      "text/html": "<div>\n<style scoped>\n    .dataframe tbody tr th:only-of-type {\n        vertical-align: middle;\n    }\n\n    .dataframe tbody tr th {\n        vertical-align: top;\n    }\n\n    .dataframe thead th {\n        text-align: right;\n    }\n</style>\n<table border=\"1\" class=\"dataframe\">\n  <thead>\n    <tr style=\"text-align: right;\">\n      <th></th>\n      <th>stature</th>\n      <th>weightkg</th>\n      <th>chestcircumference</th>\n      <th>waistcircumference</th>\n      <th>buttockcircumference</th>\n      <th>pants_size</th>\n      <th>pants_colour</th>\n      <th>tshirt_colour</th>\n      <th>tshirt_size</th>\n    </tr>\n  </thead>\n  <tbody>\n    <tr>\n      <th>0</th>\n      <td>1776</td>\n      <td>815</td>\n      <td>1074</td>\n      <td>933</td>\n      <td>979</td>\n      <td>-</td>\n      <td>-</td>\n      <td>Orange</td>\n      <td>Large</td>\n    </tr>\n    <tr>\n      <th>1</th>\n      <td>1702</td>\n      <td>726</td>\n      <td>1021</td>\n      <td>870</td>\n      <td>944</td>\n      <td>-</td>\n      <td>-</td>\n      <td>Red</td>\n      <td>Medium</td>\n    </tr>\n    <tr>\n      <th>2</th>\n      <td>1735</td>\n      <td>929</td>\n      <td>1120</td>\n      <td>964</td>\n      <td>1054</td>\n      <td>-</td>\n      <td>-</td>\n      <td>Black</td>\n      <td>X-Large</td>\n    </tr>\n    <tr>\n      <th>3</th>\n      <td>1655</td>\n      <td>794</td>\n      <td>1114</td>\n      <td>857</td>\n      <td>991</td>\n      <td>-</td>\n      <td>-</td>\n      <td>Orange</td>\n      <td>Large</td>\n    </tr>\n    <tr>\n      <th>4</th>\n      <td>1914</td>\n      <td>946</td>\n      <td>1048</td>\n      <td>868</td>\n      <td>1029</td>\n      <td>-</td>\n      <td>-</td>\n      <td>Orange</td>\n      <td>Large</td>\n    </tr>\n  </tbody>\n</table>\n</div>"
     },
     "execution_count": 4,
     "metadata": {},
     "output_type": "execute_result"
    }
   ],
   "source": [
    "tshirt_size = []\n",
    "tshirt_colour = []\n",
    "for chest, waist in zip(male_data['chestcircumference'], male_data['waistcircumference']):\n",
    "    if chest < 880:\n",
    "        if waist >= 760:\n",
    "            tshirt_size.append('Small')\n",
    "            tshirt_colour.append('Blue')\n",
    "        else:\n",
    "            tshirt_size.append('X-Small')\n",
    "            tshirt_colour.append('Yellow')\n",
    "    elif chest < 960:\n",
    "        if waist >= 840:\n",
    "            tshirt_size.append('Medium')\n",
    "            tshirt_colour.append('Red')\n",
    "        else:\n",
    "            tshirt_size.append('Small')\n",
    "            tshirt_colour.append('Blue')\n",
    "    elif chest < 1040:\n",
    "        if waist >= 920:\n",
    "            tshirt_size.append('Large')\n",
    "            tshirt_colour.append('Orange')\n",
    "        else:\n",
    "            tshirt_size.append('Medium')\n",
    "            tshirt_colour.append('Red')\n",
    "    elif chest < 1120:\n",
    "        if waist >= 1000:\n",
    "            tshirt_size.append('X-Large')\n",
    "            tshirt_colour.append('Black')\n",
    "        else:\n",
    "            tshirt_size.append('Large')\n",
    "            tshirt_colour.append('Orange')\n",
    "    elif chest < 1200:\n",
    "        if waist >= 1080:\n",
    "            tshirt_size.append('XX-Large')\n",
    "            tshirt_colour.append('Pink')\n",
    "        else:\n",
    "            tshirt_size.append('X-Large')\n",
    "            tshirt_colour.append('Black')\n",
    "    elif chest < 1240:\n",
    "        if waist >= 1120:\n",
    "            tshirt_size.append('XXX-Large')\n",
    "            tshirt_colour.append('Brown')\n",
    "        else:\n",
    "            tshirt_size.append('XX-Large')\n",
    "            tshirt_colour.append('Pink')\n",
    "    elif chest >= 1240:\n",
    "        tshirt_size.append('XXX-Large')\n",
    "        tshirt_colour.append('Brown')\n",
    "\n",
    "male_data['tshirt_size'] = tshirt_size\n",
    "male_data['tshirt_colour'] = tshirt_colour\n",
    "male_data.head()"
   ],
   "metadata": {
    "collapsed": false,
    "pycharm": {
     "name": "#%%\n"
    }
   }
  },
  {
   "cell_type": "code",
   "execution_count": 5,
   "outputs": [],
   "source": [
    "male_tshirt_cleaned = male_df[['stature', 'weightkg', 'chestcircumference', 'waistcircumference', 'buttockcircumference']]"
   ],
   "metadata": {
    "collapsed": false,
    "pycharm": {
     "name": "#%%\n"
    }
   }
  },
  {
   "cell_type": "code",
   "execution_count": 6,
   "outputs": [
    {
     "data": {
      "text/plain": "   stature  weightkg  chestcircumference  waistcircumference  \\\n0    177.6      81.5                1074                 933   \n1    170.2      72.6                1021                 870   \n2    173.5      92.9                1120                 964   \n3    165.5      79.4                1114                 857   \n4    191.4      94.6                1048                 868   \n\n   buttockcircumference  \n0                   979  \n1                   944  \n2                  1054  \n3                   991  \n4                  1029  ",
      "text/html": "<div>\n<style scoped>\n    .dataframe tbody tr th:only-of-type {\n        vertical-align: middle;\n    }\n\n    .dataframe tbody tr th {\n        vertical-align: top;\n    }\n\n    .dataframe thead th {\n        text-align: right;\n    }\n</style>\n<table border=\"1\" class=\"dataframe\">\n  <thead>\n    <tr style=\"text-align: right;\">\n      <th></th>\n      <th>stature</th>\n      <th>weightkg</th>\n      <th>chestcircumference</th>\n      <th>waistcircumference</th>\n      <th>buttockcircumference</th>\n    </tr>\n  </thead>\n  <tbody>\n    <tr>\n      <th>0</th>\n      <td>177.6</td>\n      <td>81.5</td>\n      <td>1074</td>\n      <td>933</td>\n      <td>979</td>\n    </tr>\n    <tr>\n      <th>1</th>\n      <td>170.2</td>\n      <td>72.6</td>\n      <td>1021</td>\n      <td>870</td>\n      <td>944</td>\n    </tr>\n    <tr>\n      <th>2</th>\n      <td>173.5</td>\n      <td>92.9</td>\n      <td>1120</td>\n      <td>964</td>\n      <td>1054</td>\n    </tr>\n    <tr>\n      <th>3</th>\n      <td>165.5</td>\n      <td>79.4</td>\n      <td>1114</td>\n      <td>857</td>\n      <td>991</td>\n    </tr>\n    <tr>\n      <th>4</th>\n      <td>191.4</td>\n      <td>94.6</td>\n      <td>1048</td>\n      <td>868</td>\n      <td>1029</td>\n    </tr>\n  </tbody>\n</table>\n</div>"
     },
     "execution_count": 6,
     "metadata": {},
     "output_type": "execute_result"
    }
   ],
   "source": [
    "male_tshirt_cleaned.head()"
   ],
   "metadata": {
    "collapsed": false,
    "pycharm": {
     "name": "#%%\n"
    }
   }
  },
  {
   "cell_type": "code",
   "execution_count": 7,
   "outputs": [],
   "source": [
    "male_tshirt_cleaned.to_csv('male_tshirt_cleaned.csv')"
   ],
   "metadata": {
    "collapsed": false,
    "pycharm": {
     "name": "#%%\n"
    }
   }
  },
  {
   "cell_type": "code",
   "execution_count": 8,
   "outputs": [
    {
     "name": "stderr",
     "output_type": "stream",
     "text": [
      "C:\\Users\\stoff\\AppData\\Local\\Temp\\ipykernel_25068\\1115227854.py:57: SettingWithCopyWarning: \n",
      "A value is trying to be set on a copy of a slice from a DataFrame.\n",
      "Try using .loc[row_indexer,col_indexer] = value instead\n",
      "\n",
      "See the caveats in the documentation: https://pandas.pydata.org/pandas-docs/stable/user_guide/indexing.html#returning-a-view-versus-a-copy\n",
      "  male_data['pants_size'] = pants_size\n",
      "C:\\Users\\stoff\\AppData\\Local\\Temp\\ipykernel_25068\\1115227854.py:58: SettingWithCopyWarning: \n",
      "A value is trying to be set on a copy of a slice from a DataFrame.\n",
      "Try using .loc[row_indexer,col_indexer] = value instead\n",
      "\n",
      "See the caveats in the documentation: https://pandas.pydata.org/pandas-docs/stable/user_guide/indexing.html#returning-a-view-versus-a-copy\n",
      "  male_data['pants_colour'] = pants_colour\n"
     ]
    },
    {
     "data": {
      "text/plain": "      stature  weightkg  chestcircumference  waistcircumference  \\\n0        1776       815                1074                 933   \n1        1702       726                1021                 870   \n2        1735       929                1120                 964   \n3        1655       794                1114                 857   \n4        1914       946                1048                 868   \n...       ...       ...                 ...                 ...   \n4077     1688       675                 954                 816   \n4078     1765       896                1072                 978   \n4079     1690       832                1045                 991   \n4080     1718       731                 984                 783   \n4081     1828       985                1144                1080   \n\n      buttockcircumference pants_size pants_colour tshirt_colour tshirt_size  \n0                      979     Medium          Red        Orange       Large  \n1                      944      Small         Blue           Red      Medium  \n2                     1054      Large       Orange         Black     X-Large  \n3                      991      Small         Blue        Orange       Large  \n4                     1029      Small         Blue        Orange       Large  \n...                    ...        ...          ...           ...         ...  \n4077                   917      Small         Blue          Blue       Small  \n4078                  1049      Large       Orange        Orange       Large  \n4079                  1038     Medium          Red        Orange       Large  \n4080                   929    X-Small       Yellow           Red      Medium  \n4081                  1009     Medium          Red          Pink    XX-Large  \n\n[4082 rows x 9 columns]",
      "text/html": "<div>\n<style scoped>\n    .dataframe tbody tr th:only-of-type {\n        vertical-align: middle;\n    }\n\n    .dataframe tbody tr th {\n        vertical-align: top;\n    }\n\n    .dataframe thead th {\n        text-align: right;\n    }\n</style>\n<table border=\"1\" class=\"dataframe\">\n  <thead>\n    <tr style=\"text-align: right;\">\n      <th></th>\n      <th>stature</th>\n      <th>weightkg</th>\n      <th>chestcircumference</th>\n      <th>waistcircumference</th>\n      <th>buttockcircumference</th>\n      <th>pants_size</th>\n      <th>pants_colour</th>\n      <th>tshirt_colour</th>\n      <th>tshirt_size</th>\n    </tr>\n  </thead>\n  <tbody>\n    <tr>\n      <th>0</th>\n      <td>1776</td>\n      <td>815</td>\n      <td>1074</td>\n      <td>933</td>\n      <td>979</td>\n      <td>Medium</td>\n      <td>Red</td>\n      <td>Orange</td>\n      <td>Large</td>\n    </tr>\n    <tr>\n      <th>1</th>\n      <td>1702</td>\n      <td>726</td>\n      <td>1021</td>\n      <td>870</td>\n      <td>944</td>\n      <td>Small</td>\n      <td>Blue</td>\n      <td>Red</td>\n      <td>Medium</td>\n    </tr>\n    <tr>\n      <th>2</th>\n      <td>1735</td>\n      <td>929</td>\n      <td>1120</td>\n      <td>964</td>\n      <td>1054</td>\n      <td>Large</td>\n      <td>Orange</td>\n      <td>Black</td>\n      <td>X-Large</td>\n    </tr>\n    <tr>\n      <th>3</th>\n      <td>1655</td>\n      <td>794</td>\n      <td>1114</td>\n      <td>857</td>\n      <td>991</td>\n      <td>Small</td>\n      <td>Blue</td>\n      <td>Orange</td>\n      <td>Large</td>\n    </tr>\n    <tr>\n      <th>4</th>\n      <td>1914</td>\n      <td>946</td>\n      <td>1048</td>\n      <td>868</td>\n      <td>1029</td>\n      <td>Small</td>\n      <td>Blue</td>\n      <td>Orange</td>\n      <td>Large</td>\n    </tr>\n    <tr>\n      <th>...</th>\n      <td>...</td>\n      <td>...</td>\n      <td>...</td>\n      <td>...</td>\n      <td>...</td>\n      <td>...</td>\n      <td>...</td>\n      <td>...</td>\n      <td>...</td>\n    </tr>\n    <tr>\n      <th>4077</th>\n      <td>1688</td>\n      <td>675</td>\n      <td>954</td>\n      <td>816</td>\n      <td>917</td>\n      <td>Small</td>\n      <td>Blue</td>\n      <td>Blue</td>\n      <td>Small</td>\n    </tr>\n    <tr>\n      <th>4078</th>\n      <td>1765</td>\n      <td>896</td>\n      <td>1072</td>\n      <td>978</td>\n      <td>1049</td>\n      <td>Large</td>\n      <td>Orange</td>\n      <td>Orange</td>\n      <td>Large</td>\n    </tr>\n    <tr>\n      <th>4079</th>\n      <td>1690</td>\n      <td>832</td>\n      <td>1045</td>\n      <td>991</td>\n      <td>1038</td>\n      <td>Medium</td>\n      <td>Red</td>\n      <td>Orange</td>\n      <td>Large</td>\n    </tr>\n    <tr>\n      <th>4080</th>\n      <td>1718</td>\n      <td>731</td>\n      <td>984</td>\n      <td>783</td>\n      <td>929</td>\n      <td>X-Small</td>\n      <td>Yellow</td>\n      <td>Red</td>\n      <td>Medium</td>\n    </tr>\n    <tr>\n      <th>4081</th>\n      <td>1828</td>\n      <td>985</td>\n      <td>1144</td>\n      <td>1080</td>\n      <td>1009</td>\n      <td>Medium</td>\n      <td>Red</td>\n      <td>Pink</td>\n      <td>XX-Large</td>\n    </tr>\n  </tbody>\n</table>\n<p>4082 rows × 9 columns</p>\n</div>"
     },
     "execution_count": 8,
     "metadata": {},
     "output_type": "execute_result"
    }
   ],
   "source": [
    "pants_size = []\n",
    "pants_colour = []\n",
    "for butt, waist in zip(male_data['buttockcircumference'], male_data['waistcircumference']):\n",
    "    if butt < 950:\n",
    "        if waist >= 800:\n",
    "            pants_size.append('Small')\n",
    "            pants_colour.append('Blue')\n",
    "        else:\n",
    "            pants_size.append('X-Small')\n",
    "            pants_colour.append('Yellow')\n",
    "    elif butt < 1040:\n",
    "        if waist >= 880:\n",
    "            pants_size.append('Medium')\n",
    "            pants_colour.append('Red')\n",
    "        else:\n",
    "            pants_size.append('Small')\n",
    "            pants_colour.append('Blue')\n",
    "    elif butt < 1070:\n",
    "        if waist >= 920:\n",
    "            pants_size.append('Large')\n",
    "            pants_colour.append('Orange')\n",
    "        else:\n",
    "            pants_size.append('Medium')\n",
    "            pants_colour.append('Red')\n",
    "    elif butt < 1130:\n",
    "        if waist >= 1020:\n",
    "            pants_size.append('X-Large')\n",
    "            pants_colour.append('Black')\n",
    "        else:\n",
    "            pants_size.append('Large')\n",
    "            pants_colour.append('Orange')\n",
    "    elif butt < 1180:\n",
    "        if waist >=1070:\n",
    "            pants_size.append('XX-Large')\n",
    "            pants_colour.append('Pink')\n",
    "        else:\n",
    "            pants_size.append('X-Large')\n",
    "            pants_colour.append('Black')\n",
    "    elif butt < 1220:\n",
    "        if waist >= 1170:\n",
    "            pants_size.append('XXX-Large')\n",
    "            pants_colour.append('Brown')\n",
    "        else:\n",
    "            pants_size.append('XX-Large')\n",
    "            pants_colour.append('Pink')\n",
    "    elif butt < 1280:\n",
    "        if waist >= 1220:\n",
    "            pants_size.append('XXXX-Large')\n",
    "            pants_colour.append('Purple')\n",
    "        else:\n",
    "            pants_size.append('XXX-Large')\n",
    "            pants_colour.append('Brown')\n",
    "    elif butt >= 1280:\n",
    "        pants_size.append('XXXX-Large')\n",
    "        pants_colour.append('Purple')\n",
    "\n",
    "male_data['pants_size'] = pants_size\n",
    "male_data['pants_colour'] = pants_colour\n",
    "male_data"
   ],
   "metadata": {
    "collapsed": false,
    "pycharm": {
     "name": "#%%\n"
    }
   }
  },
  {
   "cell_type": "code",
   "execution_count": 9,
   "outputs": [],
   "source": [
    "male_pants_cleaned = male_df[['stature', 'weightkg', 'waistcircumference', 'buttockcircumference']]"
   ],
   "metadata": {
    "collapsed": false,
    "pycharm": {
     "name": "#%%\n"
    }
   }
  },
  {
   "cell_type": "code",
   "execution_count": 10,
   "outputs": [
    {
     "data": {
      "text/plain": "   stature  weightkg  waistcircumference  buttockcircumference\n0    177.6      81.5                 933                   979\n1    170.2      72.6                 870                   944\n2    173.5      92.9                 964                  1054\n3    165.5      79.4                 857                   991\n4    191.4      94.6                 868                  1029",
      "text/html": "<div>\n<style scoped>\n    .dataframe tbody tr th:only-of-type {\n        vertical-align: middle;\n    }\n\n    .dataframe tbody tr th {\n        vertical-align: top;\n    }\n\n    .dataframe thead th {\n        text-align: right;\n    }\n</style>\n<table border=\"1\" class=\"dataframe\">\n  <thead>\n    <tr style=\"text-align: right;\">\n      <th></th>\n      <th>stature</th>\n      <th>weightkg</th>\n      <th>waistcircumference</th>\n      <th>buttockcircumference</th>\n    </tr>\n  </thead>\n  <tbody>\n    <tr>\n      <th>0</th>\n      <td>177.6</td>\n      <td>81.5</td>\n      <td>933</td>\n      <td>979</td>\n    </tr>\n    <tr>\n      <th>1</th>\n      <td>170.2</td>\n      <td>72.6</td>\n      <td>870</td>\n      <td>944</td>\n    </tr>\n    <tr>\n      <th>2</th>\n      <td>173.5</td>\n      <td>92.9</td>\n      <td>964</td>\n      <td>1054</td>\n    </tr>\n    <tr>\n      <th>3</th>\n      <td>165.5</td>\n      <td>79.4</td>\n      <td>857</td>\n      <td>991</td>\n    </tr>\n    <tr>\n      <th>4</th>\n      <td>191.4</td>\n      <td>94.6</td>\n      <td>868</td>\n      <td>1029</td>\n    </tr>\n  </tbody>\n</table>\n</div>"
     },
     "execution_count": 10,
     "metadata": {},
     "output_type": "execute_result"
    }
   ],
   "source": [
    "male_pants_cleaned.head()"
   ],
   "metadata": {
    "collapsed": false,
    "pycharm": {
     "name": "#%%\n"
    }
   }
  },
  {
   "cell_type": "code",
   "execution_count": 11,
   "outputs": [],
   "source": [
    "male_pants_cleaned.to_csv('male_pants_cleaned.csv')"
   ],
   "metadata": {
    "collapsed": false,
    "pycharm": {
     "name": "#%%\n"
    }
   }
  },
  {
   "cell_type": "code",
   "execution_count": 12,
   "outputs": [
    {
     "name": "stderr",
     "output_type": "stream",
     "text": [
      "C:\\Users\\stoff\\AppData\\Local\\Temp\\ipykernel_25068\\1118126180.py:13: SettingWithCopyWarning: \n",
      "A value is trying to be set on a copy of a slice from a DataFrame.\n",
      "Try using .loc[row_indexer,col_indexer] = value instead\n",
      "\n",
      "See the caveats in the documentation: https://pandas.pydata.org/pandas-docs/stable/user_guide/indexing.html#returning-a-view-versus-a-copy\n",
      "  male_data['closest'] = closest\n"
     ]
    }
   ],
   "source": [
    "import math\n",
    "\n",
    "my_length = 1810\n",
    "my_weight = 680\n",
    "closest = []\n",
    "\n",
    "for length, weight in zip(male_data['stature'], male_data['weightkg']):\n",
    "    delta_y = abs(my_length) - abs(length)\n",
    "    delta_x = abs(my_weight) - abs(weight)\n",
    "    hypo = delta_y**2 + delta_x**2\n",
    "    closest.append(math.sqrt(hypo))\n",
    "\n",
    "male_data['closest'] = closest"
   ],
   "metadata": {
    "collapsed": false,
    "pycharm": {
     "name": "#%%\n"
    }
   }
  },
  {
   "cell_type": "code",
   "execution_count": 13,
   "outputs": [
    {
     "data": {
      "text/plain": "      stature  weightkg  chestcircumference  waistcircumference  \\\n2921     1807       673                 946                 800   \n2294     1802       676                 922                 787   \n3495     1806       690                 938                 780   \n2646     1821       682                 920                 740   \n2995     1819       673                 931                 754   \n...       ...       ...                 ...                 ...   \n3718     1885      1375                1276                1300   \n55       1840      1400                1469                1379   \n118      1846      1413                1358                1330   \n1444     1867      1429                1372                1300   \n2974     1910      1442                1279                1328   \n\n      buttockcircumference  pants_size pants_colour tshirt_colour tshirt_size  \\\n2921                   928       Small         Blue          Blue       Small   \n2294                   918     X-Small       Yellow          Blue       Small   \n3495                   937     X-Small       Yellow          Blue       Small   \n2646                   911     X-Small       Yellow          Blue       Small   \n2995                   922     X-Small       Yellow          Blue       Small   \n...                    ...         ...          ...           ...         ...   \n3718                  1268  XXXX-Large       Purple         Brown   XXX-Large   \n55                    1265  XXXX-Large       Purple         Brown   XXX-Large   \n118                   1234  XXXX-Large       Purple         Brown   XXX-Large   \n1444                  1242  XXXX-Large       Purple         Brown   XXX-Large   \n2974                  1293  XXXX-Large       Purple         Brown   XXX-Large   \n\n         closest  \n2921    7.615773  \n2294    8.944272  \n3495   10.770330  \n2646   11.180340  \n2995   11.401754  \n...          ...  \n3718  699.035049  \n55    720.624729  \n118   733.883506  \n1444  751.165761  \n2974  768.533669  \n\n[4082 rows x 10 columns]",
      "text/html": "<div>\n<style scoped>\n    .dataframe tbody tr th:only-of-type {\n        vertical-align: middle;\n    }\n\n    .dataframe tbody tr th {\n        vertical-align: top;\n    }\n\n    .dataframe thead th {\n        text-align: right;\n    }\n</style>\n<table border=\"1\" class=\"dataframe\">\n  <thead>\n    <tr style=\"text-align: right;\">\n      <th></th>\n      <th>stature</th>\n      <th>weightkg</th>\n      <th>chestcircumference</th>\n      <th>waistcircumference</th>\n      <th>buttockcircumference</th>\n      <th>pants_size</th>\n      <th>pants_colour</th>\n      <th>tshirt_colour</th>\n      <th>tshirt_size</th>\n      <th>closest</th>\n    </tr>\n  </thead>\n  <tbody>\n    <tr>\n      <th>2921</th>\n      <td>1807</td>\n      <td>673</td>\n      <td>946</td>\n      <td>800</td>\n      <td>928</td>\n      <td>Small</td>\n      <td>Blue</td>\n      <td>Blue</td>\n      <td>Small</td>\n      <td>7.615773</td>\n    </tr>\n    <tr>\n      <th>2294</th>\n      <td>1802</td>\n      <td>676</td>\n      <td>922</td>\n      <td>787</td>\n      <td>918</td>\n      <td>X-Small</td>\n      <td>Yellow</td>\n      <td>Blue</td>\n      <td>Small</td>\n      <td>8.944272</td>\n    </tr>\n    <tr>\n      <th>3495</th>\n      <td>1806</td>\n      <td>690</td>\n      <td>938</td>\n      <td>780</td>\n      <td>937</td>\n      <td>X-Small</td>\n      <td>Yellow</td>\n      <td>Blue</td>\n      <td>Small</td>\n      <td>10.770330</td>\n    </tr>\n    <tr>\n      <th>2646</th>\n      <td>1821</td>\n      <td>682</td>\n      <td>920</td>\n      <td>740</td>\n      <td>911</td>\n      <td>X-Small</td>\n      <td>Yellow</td>\n      <td>Blue</td>\n      <td>Small</td>\n      <td>11.180340</td>\n    </tr>\n    <tr>\n      <th>2995</th>\n      <td>1819</td>\n      <td>673</td>\n      <td>931</td>\n      <td>754</td>\n      <td>922</td>\n      <td>X-Small</td>\n      <td>Yellow</td>\n      <td>Blue</td>\n      <td>Small</td>\n      <td>11.401754</td>\n    </tr>\n    <tr>\n      <th>...</th>\n      <td>...</td>\n      <td>...</td>\n      <td>...</td>\n      <td>...</td>\n      <td>...</td>\n      <td>...</td>\n      <td>...</td>\n      <td>...</td>\n      <td>...</td>\n      <td>...</td>\n    </tr>\n    <tr>\n      <th>3718</th>\n      <td>1885</td>\n      <td>1375</td>\n      <td>1276</td>\n      <td>1300</td>\n      <td>1268</td>\n      <td>XXXX-Large</td>\n      <td>Purple</td>\n      <td>Brown</td>\n      <td>XXX-Large</td>\n      <td>699.035049</td>\n    </tr>\n    <tr>\n      <th>55</th>\n      <td>1840</td>\n      <td>1400</td>\n      <td>1469</td>\n      <td>1379</td>\n      <td>1265</td>\n      <td>XXXX-Large</td>\n      <td>Purple</td>\n      <td>Brown</td>\n      <td>XXX-Large</td>\n      <td>720.624729</td>\n    </tr>\n    <tr>\n      <th>118</th>\n      <td>1846</td>\n      <td>1413</td>\n      <td>1358</td>\n      <td>1330</td>\n      <td>1234</td>\n      <td>XXXX-Large</td>\n      <td>Purple</td>\n      <td>Brown</td>\n      <td>XXX-Large</td>\n      <td>733.883506</td>\n    </tr>\n    <tr>\n      <th>1444</th>\n      <td>1867</td>\n      <td>1429</td>\n      <td>1372</td>\n      <td>1300</td>\n      <td>1242</td>\n      <td>XXXX-Large</td>\n      <td>Purple</td>\n      <td>Brown</td>\n      <td>XXX-Large</td>\n      <td>751.165761</td>\n    </tr>\n    <tr>\n      <th>2974</th>\n      <td>1910</td>\n      <td>1442</td>\n      <td>1279</td>\n      <td>1328</td>\n      <td>1293</td>\n      <td>XXXX-Large</td>\n      <td>Purple</td>\n      <td>Brown</td>\n      <td>XXX-Large</td>\n      <td>768.533669</td>\n    </tr>\n  </tbody>\n</table>\n<p>4082 rows × 10 columns</p>\n</div>"
     },
     "execution_count": 13,
     "metadata": {},
     "output_type": "execute_result"
    }
   ],
   "source": [
    "male_data.sort_values(by=['closest'])"
   ],
   "metadata": {
    "collapsed": false,
    "pycharm": {
     "name": "#%%\n"
    }
   }
  },
  {
   "cell_type": "code",
   "execution_count": 13,
   "outputs": [],
   "source": [],
   "metadata": {
    "collapsed": false,
    "pycharm": {
     "name": "#%%\n"
    }
   }
  }
 ],
 "metadata": {
  "kernelspec": {
   "display_name": "Python 3",
   "language": "python",
   "name": "python3"
  },
  "language_info": {
   "codemirror_mode": {
    "name": "ipython",
    "version": 2
   },
   "file_extension": ".py",
   "mimetype": "text/x-python",
   "name": "python",
   "nbconvert_exporter": "python",
   "pygments_lexer": "ipython2",
   "version": "2.7.6"
  }
 },
 "nbformat": 4,
 "nbformat_minor": 0
}